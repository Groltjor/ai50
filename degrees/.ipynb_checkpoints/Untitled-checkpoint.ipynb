{
 "cells": [
  {
   "cell_type": "raw",
   "id": "ebb00a27-f843-4ca3-8ad6-3d2c5e71817b",
   "metadata": {},
   "source": [
    "class Nodo:\n",
    "    def __init__(self, state, parent, action):\n",
    "        self.state = state\n",
    "        self.parent = parent\n",
    "        self.action = action\n",
    "\n",
    "    def imprimir_data(self):\n",
    "        print(\"Los datos de este nodo son: \", self.state, self.parent, self.action, sep=\", \")\n",
    "\n",
    "\n",
    "\n",
    "class Frontera:\n",
    "    def __init__(self):\n",
    "        self.frontier = []\n",
    "\n",
    "    def empy(self):\n",
    "        return len(self.frontier) == 0\n",
    "\n",
    "    def agregar_nodo(self, nodo):\n",
    "        self.frontier.append(nodo)\n",
    "\n",
    "    def remove_nodo(self):\n",
    "        if self.empty:\n",
    "            erfd"
   ]
  },
  {
   "cell_type": "code",
   "execution_count": 11,
   "id": "46d4a5f5-d466-448f-8310-112a3f5318cb",
   "metadata": {},
   "outputs": [
    {
     "name": "stdout",
     "output_type": "stream",
     "text": [
      "Los datos de este nodo son: , A, NaN, Buscando\n"
     ]
    }
   ],
   "source": [
    "nodo_1.imprimir_data()"
   ]
  },
  {
   "cell_type": "code",
   "execution_count": null,
   "id": "8551c112-6c5b-47eb-a3e4-8cd147ffe45c",
   "metadata": {},
   "outputs": [],
   "source": []
  }
 ],
 "metadata": {
  "kernelspec": {
   "display_name": "Python (sklearn_env)",
   "language": "python",
   "name": "mi_entorno_ml"
  },
  "language_info": {
   "codemirror_mode": {
    "name": "ipython",
    "version": 3
   },
   "file_extension": ".py",
   "mimetype": "text/x-python",
   "name": "python",
   "nbconvert_exporter": "python",
   "pygments_lexer": "ipython3",
   "version": "3.13.1"
  }
 },
 "nbformat": 4,
 "nbformat_minor": 5
}
