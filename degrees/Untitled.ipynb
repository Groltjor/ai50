{
 "cells": [
  {
   "cell_type": "code",
   "execution_count": 27,
   "id": "a7091021-c094-4abd-b36c-6d3632796ed2",
   "metadata": {},
   "outputs": [],
   "source": [
    "class Nodo:\n",
    "    def __init__(self, state, parent, action):\n",
    "        self.state = state\n",
    "        self.parent = parent\n",
    "        self.action = action\n",
    "\n",
    "    def imprimir_data(self):\n",
    "        print(\"Los datos de este nodo son: \", self.state, self.parent, self.action, sep=\", \")\n",
    "\n",
    "\n",
    "\n",
    "class FronteraStack:\n",
    "    def __init__(self):\n",
    "        self.frontier = []\n",
    "\n",
    "    def empy(self):\n",
    "        return len(self.frontier) == 0\n",
    "\n",
    "    def agregar_nodo(self, nodo):\n",
    "        self.frontier.append(nodo)\n",
    "\n",
    "    def remove_nodo(self):\n",
    "        if self.empty:\n",
    "            raise Exception (\"La frontera esta vacia\")\n",
    "        else:\n",
    "            node = self.frontier[-1]\n",
    "            self.frontier = self.frontier[:-1]\n",
    "            return nodo\n",
    "\n",
    "    def check_state(self, state):\n",
    "        return any (nodo.state == state for nodo in self.frontier)\n",
    "\n",
    "class FronteraQueue(FronteraStack):\n",
    "    def remove_nodo(self):\n",
    "        if self.empty:\n",
    "            raise Exception (\"Esta Vacia la frontera Queue\")\n",
    "        else:\n",
    "            node = self.frontier[0]\n",
    "            self.frontier = self.frontier[1:]\n",
    "            return node\n",
    "    \n",
    "    "
   ]
  },
  {
   "cell_type": "code",
   "execution_count": 25,
   "id": "46d4a5f5-d466-448f-8310-112a3f5318cb",
   "metadata": {},
   "outputs": [],
   "source": [
    "frontera = FronteraStack()\n",
    "nodo_1 = Nodo(\"A\", \"NaN\", \"Buscar\")\n",
    "frontera.agregar_nodo(nodo_1)"
   ]
  },
  {
   "cell_type": "code",
   "execution_count": 26,
   "id": "8551c112-6c5b-47eb-a3e4-8cd147ffe45c",
   "metadata": {},
   "outputs": [
    {
     "data": {
      "text/plain": [
       "True"
      ]
     },
     "execution_count": 26,
     "metadata": {},
     "output_type": "execute_result"
    }
   ],
   "source": [
    "frontera.check_state(\"A\")"
   ]
  },
  {
   "cell_type": "code",
   "execution_count": null,
   "id": "78e8c425-8efc-46aa-8505-10e4e01dadf7",
   "metadata": {},
   "outputs": [],
   "source": []
  }
 ],
 "metadata": {
  "kernelspec": {
   "display_name": "Python (sklearn_env)",
   "language": "python",
   "name": "mi_entorno_ml"
  },
  "language_info": {
   "codemirror_mode": {
    "name": "ipython",
    "version": 3
   },
   "file_extension": ".py",
   "mimetype": "text/x-python",
   "name": "python",
   "nbconvert_exporter": "python",
   "pygments_lexer": "ipython3",
   "version": "3.13.1"
  }
 },
 "nbformat": 4,
 "nbformat_minor": 5
}
